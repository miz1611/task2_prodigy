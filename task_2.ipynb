{
  "nbformat": 4,
  "nbformat_minor": 0,
  "metadata": {
    "colab": {
      "provenance": [],
      "mount_file_id": "1O2rKabzBcr5OQf8rMesxifV8oS1aZYEd",
      "authorship_tag": "ABX9TyMAHBRDW0155GYAG+Vym4XT",
      "include_colab_link": true
    },
    "kernelspec": {
      "name": "python3",
      "display_name": "Python 3"
    },
    "language_info": {
      "name": "python"
    }
  },
  "cells": [
    {
      "cell_type": "markdown",
      "metadata": {
        "id": "view-in-github",
        "colab_type": "text"
      },
      "source": [
        "<a href=\"https://colab.research.google.com/github/miz1611/task2_prodigy/blob/main/task_2.ipynb\" target=\"_parent\"><img src=\"https://colab.research.google.com/assets/colab-badge.svg\" alt=\"Open In Colab\"/></a>"
      ]
    },
    {
      "cell_type": "code",
      "execution_count": null,
      "metadata": {
        "colab": {
          "base_uri": "https://localhost:8080/"
        },
        "id": "HEkdPu3z1LeG",
        "outputId": "1419a369-181a-4c73-e6e4-9616938c1897"
      },
      "outputs": [
        {
          "output_type": "stream",
          "name": "stdout",
          "text": [
            "Requirement already satisfied: pillow in /usr/local/lib/python3.12/dist-packages (11.3.0)\n"
          ]
        }
      ],
      "source": [
        "pip install pillow\n"
      ]
    },
    {
      "cell_type": "code",
      "source": [
        "from PIL import Image\n",
        "\n",
        "def process_image(input_path, output_path, key):\n",
        "    img = Image.open(input_path)\n",
        "    img = img.convert('RGB')  # Ensure 3 channels\n",
        "    pixels = img.load()\n",
        "\n",
        "    width, height = img.size\n",
        "    for x in range(width):\n",
        "        for y in range(height):\n",
        "            r, g, b = pixels[x, y]\n",
        "            # XOR operation for each channel\n",
        "            pixels[x, y] = (r ^ key, g ^ key, b ^ key)\n",
        "\n",
        "    img.save(output_path)\n",
        "    print(f\"Processed image saved as {output_path}\")\n",
        "\n",
        "def main():\n",
        "    print(\"Image Encryption/Decryption Tool (XOR-based)\")\n",
        "    input_path = input(\"Enter image file path: \").strip()\n",
        "    output_path = input(\"Enter output file path: \").strip()\n",
        "    while True:\n",
        "        try:\n",
        "            key = int(input(\"Enter an integer key (0-255): \"))\n",
        "            if 0 <= key <= 255:\n",
        "                break\n",
        "            else:\n",
        "                print(\"Key must be between 0 and 255.\")\n",
        "        except ValueError:\n",
        "            print(\"Invalid input. Please enter an integer between 0 and 255.\")\n",
        "\n",
        "    process_image(input_path, output_path, key)\n",
        "    print(\"Operation completed.\")\n",
        "\n",
        "if __name__ == \"__main__\":\n",
        "    main()"
      ],
      "metadata": {
        "colab": {
          "base_uri": "https://localhost:8080/"
        },
        "id": "VW4l3RGB1_b4",
        "outputId": "13617079-d050-47da-9a45-1d94becfa005"
      },
      "execution_count": null,
      "outputs": [
        {
          "output_type": "stream",
          "name": "stdout",
          "text": [
            "Image Encryption/Decryption Tool (XOR-based)\n",
            "Enter image file path: /content/133985284000612848.jpg\n",
            "Enter output file path: /content/output image.jpg\n",
            "Enter an integer key (0-255): 122\n",
            "Processed image saved as /content/output image.jpg\n",
            "Operation completed.\n"
          ]
        }
      ]
    }
  ]
}